{
  "nbformat": 4,
  "nbformat_minor": 0,
  "metadata": {
    "colab": {
      "provenance": [],
      "authorship_tag": "ABX9TyPdaCjHvaQlCrDXVKiHIv8A",
      "include_colab_link": true
    },
    "kernelspec": {
      "name": "python3",
      "display_name": "Python 3"
    },
    "language_info": {
      "name": "python"
    }
  },
  "cells": [
    {
      "cell_type": "markdown",
      "metadata": {
        "id": "view-in-github",
        "colab_type": "text"
      },
      "source": [
        "<a href=\"https://colab.research.google.com/github/mehakmubarak/stock-market-dashboard/blob/main/stock_market_dashboard.ipynb\" target=\"_parent\"><img src=\"https://colab.research.google.com/assets/colab-badge.svg\" alt=\"Open In Colab\"/></a>"
      ]
    },
    {
      "cell_type": "code",
      "source": [
        "import plotly.graph_objects as go\n",
        "import pandas as pd\n",
        "import numpy as np\n",
        "\n",
        "np.random.seed(42)  # for reproducibility\n",
        "dates = pd.date_range(start=\"2024-01-01\", periods=30)\n",
        "prices = 100 + np.cumsum(np.random.randn(30))\n",
        "changes = np.diff(prices, prepend=0)\n",
        "\n",
        "data = {'Date': dates, 'Price': prices, 'Change': changes}\n",
        "df = pd.DataFrame(data)\n",
        "\n",
        "fig = go.Figure()\n",
        "\n",
        "# Add the price line\n",
        "fig.add_trace(go.Scatter(\n",
        "    x=df['Date'],\n",
        "    y=df['Price'],\n",
        "    mode='lines',\n",
        "    name='Price',\n",
        "    line=dict(color='white', width=2)\n",
        "))\n",
        "\n",
        "# Add separate traces for gains and losses\n",
        "for i in range(1,len(df)):\n",
        "    if df['Change'][i] >= 0:\n",
        "        fig.add_trace(go.Scatter(\n",
        "            x=[df['Date'][i-1], df['Date'][i]],\n",
        "            y=[df['Price'][i-1], df['Price'][i]],\n",
        "            mode='lines',\n",
        "            name=f'Gain {i}',\n",
        "            line=dict(color='green', width=2),\n",
        "            showlegend=False\n",
        "        ))\n",
        "        fig.add_annotation(\n",
        "            x=df['Date'][i],\n",
        "            y=df['Price'][i],\n",
        "            text=f\"+{df['Change'][i]:.2f}\",\n",
        "            showarrow=False,\n",
        "            font=dict(color='green', size=10),\n",
        "            yshift=10\n",
        "        )\n",
        "    else:\n",
        "        fig.add_trace(go.Scatter(\n",
        "            x=[df['Date'][i-1], df['Date'][i]],\n",
        "            y=[df['Price'][i-1], df['Price'][i]],\n",
        "            mode='lines',\n",
        "            name=f'Loss {i}',\n",
        "            line=dict(color='red', width=2),\n",
        "            showlegend=False\n",
        "        ))\n",
        "        fig.add_annotation(\n",
        "            x=df['Date'][i],\n",
        "            y=df['Price'][i],\n",
        "            text=f\"{df['Change'][i]:.2f}\",\n",
        "            showarrow=False,\n",
        "            font=dict(color='red', size=10),\n",
        "            yshift=10\n",
        "        )\n",
        "\n",
        "# Update layout for a black background\n",
        "fig.update_layout(\n",
        "    plot_bgcolor='black',\n",
        "    paper_bgcolor='black',\n",
        "    font=dict(color='white'),\n",
        "    title=\"Stock Market Dashboard\",\n",
        "    xaxis_title=\"Date\",\n",
        "    yaxis_title=\"Price\",\n",
        "    title_font_color='white',\n",
        "    xaxis=dict(gridcolor='gray', showgrid=True, gridwidth=0.5, zerolinecolor=\"gray\"),\n",
        "    yaxis=dict(gridcolor='gray', showgrid=True, gridwidth=0.5, zerolinecolor=\"gray\")\n",
        ")\n",
        "\n",
        "fig.show()"
      ],
      "metadata": {
        "colab": {
          "base_uri": "https://localhost:8080/",
          "height": 542
        },
        "id": "k9n8HDbkIz_q",
        "outputId": "cce173c2-bd0a-4e83-e753-d9b13c5acfdf"
      },
      "execution_count": 12,
      "outputs": [
        {
          "output_type": "display_data",
          "data": {
            "text/html": [
              "<html>\n",
              "<head><meta charset=\"utf-8\" /></head>\n",
              "<body>\n",
              "    <div>            <script src=\"https://cdnjs.cloudflare.com/ajax/libs/mathjax/2.7.5/MathJax.js?config=TeX-AMS-MML_SVG\"></script><script type=\"text/javascript\">if (window.MathJax && window.MathJax.Hub && window.MathJax.Hub.Config) {window.MathJax.Hub.Config({SVG: {font: \"STIX-Web\"}});}</script>                <script type=\"text/javascript\">window.PlotlyConfig = {MathJaxConfig: 'local'};</script>\n",
              "        <script charset=\"utf-8\" src=\"https://cdn.plot.ly/plotly-2.35.2.min.js\"></script>                <div id=\"9c8dfdeb-1255-4017-a936-4dbaf4a83fd8\" class=\"plotly-graph-div\" style=\"height:525px; width:100%;\"></div>            <script type=\"text/javascript\">                                    window.PLOTLYENV=window.PLOTLYENV || {};                                    if (document.getElementById(\"9c8dfdeb-1255-4017-a936-4dbaf4a83fd8\")) {                    Plotly.newPlot(                        \"9c8dfdeb-1255-4017-a936-4dbaf4a83fd8\",                        [{\"line\":{\"color\":\"white\",\"width\":2},\"mode\":\"lines\",\"name\":\"Price\",\"x\":[\"2024-01-01T00:00:00\",\"2024-01-02T00:00:00\",\"2024-01-03T00:00:00\",\"2024-01-04T00:00:00\",\"2024-01-05T00:00:00\",\"2024-01-06T00:00:00\",\"2024-01-07T00:00:00\",\"2024-01-08T00:00:00\",\"2024-01-09T00:00:00\",\"2024-01-10T00:00:00\",\"2024-01-11T00:00:00\",\"2024-01-12T00:00:00\",\"2024-01-13T00:00:00\",\"2024-01-14T00:00:00\",\"2024-01-15T00:00:00\",\"2024-01-16T00:00:00\",\"2024-01-17T00:00:00\",\"2024-01-18T00:00:00\",\"2024-01-19T00:00:00\",\"2024-01-20T00:00:00\",\"2024-01-21T00:00:00\",\"2024-01-22T00:00:00\",\"2024-01-23T00:00:00\",\"2024-01-24T00:00:00\",\"2024-01-25T00:00:00\",\"2024-01-26T00:00:00\",\"2024-01-27T00:00:00\",\"2024-01-28T00:00:00\",\"2024-01-29T00:00:00\",\"2024-01-30T00:00:00\"],\"y\":[100.49671415301123,100.35844985184005,101.00613838994074,102.52916824634876,102.29501487162543,102.06087791467625,103.64009073018364,104.40752545933655,103.9380510734016,104.48061111698756,104.0171934241751,103.55146367060485,103.79342594217087,101.88014569751307,100.15522786500004,99.59294033575907,98.58010921542466,98.89435654801993,97.98633247249872,96.57402877116343,98.03967754008498,97.81390123959844,97.88142944428637,96.4566812580729,95.91229853354773,96.02322112325758,94.87222754583529,95.24792556418096,94.64728687426215,94.35559312446888],\"type\":\"scatter\"},{\"line\":{\"color\":\"red\",\"width\":2},\"mode\":\"lines\",\"name\":\"Loss 1\",\"showlegend\":false,\"x\":[\"2024-01-01T00:00:00\",\"2024-01-02T00:00:00\"],\"y\":[100.49671415301123,100.35844985184005],\"type\":\"scatter\"},{\"line\":{\"color\":\"green\",\"width\":2},\"mode\":\"lines\",\"name\":\"Gain 2\",\"showlegend\":false,\"x\":[\"2024-01-02T00:00:00\",\"2024-01-03T00:00:00\"],\"y\":[100.35844985184005,101.00613838994074],\"type\":\"scatter\"},{\"line\":{\"color\":\"green\",\"width\":2},\"mode\":\"lines\",\"name\":\"Gain 3\",\"showlegend\":false,\"x\":[\"2024-01-03T00:00:00\",\"2024-01-04T00:00:00\"],\"y\":[101.00613838994074,102.52916824634876],\"type\":\"scatter\"},{\"line\":{\"color\":\"red\",\"width\":2},\"mode\":\"lines\",\"name\":\"Loss 4\",\"showlegend\":false,\"x\":[\"2024-01-04T00:00:00\",\"2024-01-05T00:00:00\"],\"y\":[102.52916824634876,102.29501487162543],\"type\":\"scatter\"},{\"line\":{\"color\":\"red\",\"width\":2},\"mode\":\"lines\",\"name\":\"Loss 5\",\"showlegend\":false,\"x\":[\"2024-01-05T00:00:00\",\"2024-01-06T00:00:00\"],\"y\":[102.29501487162543,102.06087791467625],\"type\":\"scatter\"},{\"line\":{\"color\":\"green\",\"width\":2},\"mode\":\"lines\",\"name\":\"Gain 6\",\"showlegend\":false,\"x\":[\"2024-01-06T00:00:00\",\"2024-01-07T00:00:00\"],\"y\":[102.06087791467625,103.64009073018364],\"type\":\"scatter\"},{\"line\":{\"color\":\"green\",\"width\":2},\"mode\":\"lines\",\"name\":\"Gain 7\",\"showlegend\":false,\"x\":[\"2024-01-07T00:00:00\",\"2024-01-08T00:00:00\"],\"y\":[103.64009073018364,104.40752545933655],\"type\":\"scatter\"},{\"line\":{\"color\":\"red\",\"width\":2},\"mode\":\"lines\",\"name\":\"Loss 8\",\"showlegend\":false,\"x\":[\"2024-01-08T00:00:00\",\"2024-01-09T00:00:00\"],\"y\":[104.40752545933655,103.9380510734016],\"type\":\"scatter\"},{\"line\":{\"color\":\"green\",\"width\":2},\"mode\":\"lines\",\"name\":\"Gain 9\",\"showlegend\":false,\"x\":[\"2024-01-09T00:00:00\",\"2024-01-10T00:00:00\"],\"y\":[103.9380510734016,104.48061111698756],\"type\":\"scatter\"},{\"line\":{\"color\":\"red\",\"width\":2},\"mode\":\"lines\",\"name\":\"Loss 10\",\"showlegend\":false,\"x\":[\"2024-01-10T00:00:00\",\"2024-01-11T00:00:00\"],\"y\":[104.48061111698756,104.0171934241751],\"type\":\"scatter\"},{\"line\":{\"color\":\"red\",\"width\":2},\"mode\":\"lines\",\"name\":\"Loss 11\",\"showlegend\":false,\"x\":[\"2024-01-11T00:00:00\",\"2024-01-12T00:00:00\"],\"y\":[104.0171934241751,103.55146367060485],\"type\":\"scatter\"},{\"line\":{\"color\":\"green\",\"width\":2},\"mode\":\"lines\",\"name\":\"Gain 12\",\"showlegend\":false,\"x\":[\"2024-01-12T00:00:00\",\"2024-01-13T00:00:00\"],\"y\":[103.55146367060485,103.79342594217087],\"type\":\"scatter\"},{\"line\":{\"color\":\"red\",\"width\":2},\"mode\":\"lines\",\"name\":\"Loss 13\",\"showlegend\":false,\"x\":[\"2024-01-13T00:00:00\",\"2024-01-14T00:00:00\"],\"y\":[103.79342594217087,101.88014569751307],\"type\":\"scatter\"},{\"line\":{\"color\":\"red\",\"width\":2},\"mode\":\"lines\",\"name\":\"Loss 14\",\"showlegend\":false,\"x\":[\"2024-01-14T00:00:00\",\"2024-01-15T00:00:00\"],\"y\":[101.88014569751307,100.15522786500004],\"type\":\"scatter\"},{\"line\":{\"color\":\"red\",\"width\":2},\"mode\":\"lines\",\"name\":\"Loss 15\",\"showlegend\":false,\"x\":[\"2024-01-15T00:00:00\",\"2024-01-16T00:00:00\"],\"y\":[100.15522786500004,99.59294033575907],\"type\":\"scatter\"},{\"line\":{\"color\":\"red\",\"width\":2},\"mode\":\"lines\",\"name\":\"Loss 16\",\"showlegend\":false,\"x\":[\"2024-01-16T00:00:00\",\"2024-01-17T00:00:00\"],\"y\":[99.59294033575907,98.58010921542466],\"type\":\"scatter\"},{\"line\":{\"color\":\"green\",\"width\":2},\"mode\":\"lines\",\"name\":\"Gain 17\",\"showlegend\":false,\"x\":[\"2024-01-17T00:00:00\",\"2024-01-18T00:00:00\"],\"y\":[98.58010921542466,98.89435654801993],\"type\":\"scatter\"},{\"line\":{\"color\":\"red\",\"width\":2},\"mode\":\"lines\",\"name\":\"Loss 18\",\"showlegend\":false,\"x\":[\"2024-01-18T00:00:00\",\"2024-01-19T00:00:00\"],\"y\":[98.89435654801993,97.98633247249872],\"type\":\"scatter\"},{\"line\":{\"color\":\"red\",\"width\":2},\"mode\":\"lines\",\"name\":\"Loss 19\",\"showlegend\":false,\"x\":[\"2024-01-19T00:00:00\",\"2024-01-20T00:00:00\"],\"y\":[97.98633247249872,96.57402877116343],\"type\":\"scatter\"},{\"line\":{\"color\":\"green\",\"width\":2},\"mode\":\"lines\",\"name\":\"Gain 20\",\"showlegend\":false,\"x\":[\"2024-01-20T00:00:00\",\"2024-01-21T00:00:00\"],\"y\":[96.57402877116343,98.03967754008498],\"type\":\"scatter\"},{\"line\":{\"color\":\"red\",\"width\":2},\"mode\":\"lines\",\"name\":\"Loss 21\",\"showlegend\":false,\"x\":[\"2024-01-21T00:00:00\",\"2024-01-22T00:00:00\"],\"y\":[98.03967754008498,97.81390123959844],\"type\":\"scatter\"},{\"line\":{\"color\":\"green\",\"width\":2},\"mode\":\"lines\",\"name\":\"Gain 22\",\"showlegend\":false,\"x\":[\"2024-01-22T00:00:00\",\"2024-01-23T00:00:00\"],\"y\":[97.81390123959844,97.88142944428637],\"type\":\"scatter\"},{\"line\":{\"color\":\"red\",\"width\":2},\"mode\":\"lines\",\"name\":\"Loss 23\",\"showlegend\":false,\"x\":[\"2024-01-23T00:00:00\",\"2024-01-24T00:00:00\"],\"y\":[97.88142944428637,96.4566812580729],\"type\":\"scatter\"},{\"line\":{\"color\":\"red\",\"width\":2},\"mode\":\"lines\",\"name\":\"Loss 24\",\"showlegend\":false,\"x\":[\"2024-01-24T00:00:00\",\"2024-01-25T00:00:00\"],\"y\":[96.4566812580729,95.91229853354773],\"type\":\"scatter\"},{\"line\":{\"color\":\"green\",\"width\":2},\"mode\":\"lines\",\"name\":\"Gain 25\",\"showlegend\":false,\"x\":[\"2024-01-25T00:00:00\",\"2024-01-26T00:00:00\"],\"y\":[95.91229853354773,96.02322112325758],\"type\":\"scatter\"},{\"line\":{\"color\":\"red\",\"width\":2},\"mode\":\"lines\",\"name\":\"Loss 26\",\"showlegend\":false,\"x\":[\"2024-01-26T00:00:00\",\"2024-01-27T00:00:00\"],\"y\":[96.02322112325758,94.87222754583529],\"type\":\"scatter\"},{\"line\":{\"color\":\"green\",\"width\":2},\"mode\":\"lines\",\"name\":\"Gain 27\",\"showlegend\":false,\"x\":[\"2024-01-27T00:00:00\",\"2024-01-28T00:00:00\"],\"y\":[94.87222754583529,95.24792556418096],\"type\":\"scatter\"},{\"line\":{\"color\":\"red\",\"width\":2},\"mode\":\"lines\",\"name\":\"Loss 28\",\"showlegend\":false,\"x\":[\"2024-01-28T00:00:00\",\"2024-01-29T00:00:00\"],\"y\":[95.24792556418096,94.64728687426215],\"type\":\"scatter\"},{\"line\":{\"color\":\"red\",\"width\":2},\"mode\":\"lines\",\"name\":\"Loss 29\",\"showlegend\":false,\"x\":[\"2024-01-29T00:00:00\",\"2024-01-30T00:00:00\"],\"y\":[94.64728687426215,94.35559312446888],\"type\":\"scatter\"}],                        {\"template\":{\"data\":{\"histogram2dcontour\":[{\"type\":\"histogram2dcontour\",\"colorbar\":{\"outlinewidth\":0,\"ticks\":\"\"},\"colorscale\":[[0.0,\"#0d0887\"],[0.1111111111111111,\"#46039f\"],[0.2222222222222222,\"#7201a8\"],[0.3333333333333333,\"#9c179e\"],[0.4444444444444444,\"#bd3786\"],[0.5555555555555556,\"#d8576b\"],[0.6666666666666666,\"#ed7953\"],[0.7777777777777778,\"#fb9f3a\"],[0.8888888888888888,\"#fdca26\"],[1.0,\"#f0f921\"]]}],\"choropleth\":[{\"type\":\"choropleth\",\"colorbar\":{\"outlinewidth\":0,\"ticks\":\"\"}}],\"histogram2d\":[{\"type\":\"histogram2d\",\"colorbar\":{\"outlinewidth\":0,\"ticks\":\"\"},\"colorscale\":[[0.0,\"#0d0887\"],[0.1111111111111111,\"#46039f\"],[0.2222222222222222,\"#7201a8\"],[0.3333333333333333,\"#9c179e\"],[0.4444444444444444,\"#bd3786\"],[0.5555555555555556,\"#d8576b\"],[0.6666666666666666,\"#ed7953\"],[0.7777777777777778,\"#fb9f3a\"],[0.8888888888888888,\"#fdca26\"],[1.0,\"#f0f921\"]]}],\"heatmap\":[{\"type\":\"heatmap\",\"colorbar\":{\"outlinewidth\":0,\"ticks\":\"\"},\"colorscale\":[[0.0,\"#0d0887\"],[0.1111111111111111,\"#46039f\"],[0.2222222222222222,\"#7201a8\"],[0.3333333333333333,\"#9c179e\"],[0.4444444444444444,\"#bd3786\"],[0.5555555555555556,\"#d8576b\"],[0.6666666666666666,\"#ed7953\"],[0.7777777777777778,\"#fb9f3a\"],[0.8888888888888888,\"#fdca26\"],[1.0,\"#f0f921\"]]}],\"heatmapgl\":[{\"type\":\"heatmapgl\",\"colorbar\":{\"outlinewidth\":0,\"ticks\":\"\"},\"colorscale\":[[0.0,\"#0d0887\"],[0.1111111111111111,\"#46039f\"],[0.2222222222222222,\"#7201a8\"],[0.3333333333333333,\"#9c179e\"],[0.4444444444444444,\"#bd3786\"],[0.5555555555555556,\"#d8576b\"],[0.6666666666666666,\"#ed7953\"],[0.7777777777777778,\"#fb9f3a\"],[0.8888888888888888,\"#fdca26\"],[1.0,\"#f0f921\"]]}],\"contourcarpet\":[{\"type\":\"contourcarpet\",\"colorbar\":{\"outlinewidth\":0,\"ticks\":\"\"}}],\"contour\":[{\"type\":\"contour\",\"colorbar\":{\"outlinewidth\":0,\"ticks\":\"\"},\"colorscale\":[[0.0,\"#0d0887\"],[0.1111111111111111,\"#46039f\"],[0.2222222222222222,\"#7201a8\"],[0.3333333333333333,\"#9c179e\"],[0.4444444444444444,\"#bd3786\"],[0.5555555555555556,\"#d8576b\"],[0.6666666666666666,\"#ed7953\"],[0.7777777777777778,\"#fb9f3a\"],[0.8888888888888888,\"#fdca26\"],[1.0,\"#f0f921\"]]}],\"surface\":[{\"type\":\"surface\",\"colorbar\":{\"outlinewidth\":0,\"ticks\":\"\"},\"colorscale\":[[0.0,\"#0d0887\"],[0.1111111111111111,\"#46039f\"],[0.2222222222222222,\"#7201a8\"],[0.3333333333333333,\"#9c179e\"],[0.4444444444444444,\"#bd3786\"],[0.5555555555555556,\"#d8576b\"],[0.6666666666666666,\"#ed7953\"],[0.7777777777777778,\"#fb9f3a\"],[0.8888888888888888,\"#fdca26\"],[1.0,\"#f0f921\"]]}],\"mesh3d\":[{\"type\":\"mesh3d\",\"colorbar\":{\"outlinewidth\":0,\"ticks\":\"\"}}],\"scatter\":[{\"fillpattern\":{\"fillmode\":\"overlay\",\"size\":10,\"solidity\":0.2},\"type\":\"scatter\"}],\"parcoords\":[{\"type\":\"parcoords\",\"line\":{\"colorbar\":{\"outlinewidth\":0,\"ticks\":\"\"}}}],\"scatterpolargl\":[{\"type\":\"scatterpolargl\",\"marker\":{\"colorbar\":{\"outlinewidth\":0,\"ticks\":\"\"}}}],\"bar\":[{\"error_x\":{\"color\":\"#2a3f5f\"},\"error_y\":{\"color\":\"#2a3f5f\"},\"marker\":{\"line\":{\"color\":\"#E5ECF6\",\"width\":0.5},\"pattern\":{\"fillmode\":\"overlay\",\"size\":10,\"solidity\":0.2}},\"type\":\"bar\"}],\"scattergeo\":[{\"type\":\"scattergeo\",\"marker\":{\"colorbar\":{\"outlinewidth\":0,\"ticks\":\"\"}}}],\"scatterpolar\":[{\"type\":\"scatterpolar\",\"marker\":{\"colorbar\":{\"outlinewidth\":0,\"ticks\":\"\"}}}],\"histogram\":[{\"marker\":{\"pattern\":{\"fillmode\":\"overlay\",\"size\":10,\"solidity\":0.2}},\"type\":\"histogram\"}],\"scattergl\":[{\"type\":\"scattergl\",\"marker\":{\"colorbar\":{\"outlinewidth\":0,\"ticks\":\"\"}}}],\"scatter3d\":[{\"type\":\"scatter3d\",\"line\":{\"colorbar\":{\"outlinewidth\":0,\"ticks\":\"\"}},\"marker\":{\"colorbar\":{\"outlinewidth\":0,\"ticks\":\"\"}}}],\"scattermapbox\":[{\"type\":\"scattermapbox\",\"marker\":{\"colorbar\":{\"outlinewidth\":0,\"ticks\":\"\"}}}],\"scatterternary\":[{\"type\":\"scatterternary\",\"marker\":{\"colorbar\":{\"outlinewidth\":0,\"ticks\":\"\"}}}],\"scattercarpet\":[{\"type\":\"scattercarpet\",\"marker\":{\"colorbar\":{\"outlinewidth\":0,\"ticks\":\"\"}}}],\"carpet\":[{\"aaxis\":{\"endlinecolor\":\"#2a3f5f\",\"gridcolor\":\"white\",\"linecolor\":\"white\",\"minorgridcolor\":\"white\",\"startlinecolor\":\"#2a3f5f\"},\"baxis\":{\"endlinecolor\":\"#2a3f5f\",\"gridcolor\":\"white\",\"linecolor\":\"white\",\"minorgridcolor\":\"white\",\"startlinecolor\":\"#2a3f5f\"},\"type\":\"carpet\"}],\"table\":[{\"cells\":{\"fill\":{\"color\":\"#EBF0F8\"},\"line\":{\"color\":\"white\"}},\"header\":{\"fill\":{\"color\":\"#C8D4E3\"},\"line\":{\"color\":\"white\"}},\"type\":\"table\"}],\"barpolar\":[{\"marker\":{\"line\":{\"color\":\"#E5ECF6\",\"width\":0.5},\"pattern\":{\"fillmode\":\"overlay\",\"size\":10,\"solidity\":0.2}},\"type\":\"barpolar\"}],\"pie\":[{\"automargin\":true,\"type\":\"pie\"}]},\"layout\":{\"autotypenumbers\":\"strict\",\"colorway\":[\"#636efa\",\"#EF553B\",\"#00cc96\",\"#ab63fa\",\"#FFA15A\",\"#19d3f3\",\"#FF6692\",\"#B6E880\",\"#FF97FF\",\"#FECB52\"],\"font\":{\"color\":\"#2a3f5f\"},\"hovermode\":\"closest\",\"hoverlabel\":{\"align\":\"left\"},\"paper_bgcolor\":\"white\",\"plot_bgcolor\":\"#E5ECF6\",\"polar\":{\"bgcolor\":\"#E5ECF6\",\"angularaxis\":{\"gridcolor\":\"white\",\"linecolor\":\"white\",\"ticks\":\"\"},\"radialaxis\":{\"gridcolor\":\"white\",\"linecolor\":\"white\",\"ticks\":\"\"}},\"ternary\":{\"bgcolor\":\"#E5ECF6\",\"aaxis\":{\"gridcolor\":\"white\",\"linecolor\":\"white\",\"ticks\":\"\"},\"baxis\":{\"gridcolor\":\"white\",\"linecolor\":\"white\",\"ticks\":\"\"},\"caxis\":{\"gridcolor\":\"white\",\"linecolor\":\"white\",\"ticks\":\"\"}},\"coloraxis\":{\"colorbar\":{\"outlinewidth\":0,\"ticks\":\"\"}},\"colorscale\":{\"sequential\":[[0.0,\"#0d0887\"],[0.1111111111111111,\"#46039f\"],[0.2222222222222222,\"#7201a8\"],[0.3333333333333333,\"#9c179e\"],[0.4444444444444444,\"#bd3786\"],[0.5555555555555556,\"#d8576b\"],[0.6666666666666666,\"#ed7953\"],[0.7777777777777778,\"#fb9f3a\"],[0.8888888888888888,\"#fdca26\"],[1.0,\"#f0f921\"]],\"sequentialminus\":[[0.0,\"#0d0887\"],[0.1111111111111111,\"#46039f\"],[0.2222222222222222,\"#7201a8\"],[0.3333333333333333,\"#9c179e\"],[0.4444444444444444,\"#bd3786\"],[0.5555555555555556,\"#d8576b\"],[0.6666666666666666,\"#ed7953\"],[0.7777777777777778,\"#fb9f3a\"],[0.8888888888888888,\"#fdca26\"],[1.0,\"#f0f921\"]],\"diverging\":[[0,\"#8e0152\"],[0.1,\"#c51b7d\"],[0.2,\"#de77ae\"],[0.3,\"#f1b6da\"],[0.4,\"#fde0ef\"],[0.5,\"#f7f7f7\"],[0.6,\"#e6f5d0\"],[0.7,\"#b8e186\"],[0.8,\"#7fbc41\"],[0.9,\"#4d9221\"],[1,\"#276419\"]]},\"xaxis\":{\"gridcolor\":\"white\",\"linecolor\":\"white\",\"ticks\":\"\",\"title\":{\"standoff\":15},\"zerolinecolor\":\"white\",\"automargin\":true,\"zerolinewidth\":2},\"yaxis\":{\"gridcolor\":\"white\",\"linecolor\":\"white\",\"ticks\":\"\",\"title\":{\"standoff\":15},\"zerolinecolor\":\"white\",\"automargin\":true,\"zerolinewidth\":2},\"scene\":{\"xaxis\":{\"backgroundcolor\":\"#E5ECF6\",\"gridcolor\":\"white\",\"linecolor\":\"white\",\"showbackground\":true,\"ticks\":\"\",\"zerolinecolor\":\"white\",\"gridwidth\":2},\"yaxis\":{\"backgroundcolor\":\"#E5ECF6\",\"gridcolor\":\"white\",\"linecolor\":\"white\",\"showbackground\":true,\"ticks\":\"\",\"zerolinecolor\":\"white\",\"gridwidth\":2},\"zaxis\":{\"backgroundcolor\":\"#E5ECF6\",\"gridcolor\":\"white\",\"linecolor\":\"white\",\"showbackground\":true,\"ticks\":\"\",\"zerolinecolor\":\"white\",\"gridwidth\":2}},\"shapedefaults\":{\"line\":{\"color\":\"#2a3f5f\"}},\"annotationdefaults\":{\"arrowcolor\":\"#2a3f5f\",\"arrowhead\":0,\"arrowwidth\":1},\"geo\":{\"bgcolor\":\"white\",\"landcolor\":\"#E5ECF6\",\"subunitcolor\":\"white\",\"showland\":true,\"showlakes\":true,\"lakecolor\":\"white\"},\"title\":{\"x\":0.05},\"mapbox\":{\"style\":\"light\"}}},\"annotations\":[{\"font\":{\"color\":\"red\",\"size\":10},\"showarrow\":false,\"text\":\"-0.14\",\"x\":\"2024-01-02T00:00:00\",\"y\":100.35844985184005,\"yshift\":10},{\"font\":{\"color\":\"green\",\"size\":10},\"showarrow\":false,\"text\":\"+0.65\",\"x\":\"2024-01-03T00:00:00\",\"y\":101.00613838994074,\"yshift\":10},{\"font\":{\"color\":\"green\",\"size\":10},\"showarrow\":false,\"text\":\"+1.52\",\"x\":\"2024-01-04T00:00:00\",\"y\":102.52916824634876,\"yshift\":10},{\"font\":{\"color\":\"red\",\"size\":10},\"showarrow\":false,\"text\":\"-0.23\",\"x\":\"2024-01-05T00:00:00\",\"y\":102.29501487162543,\"yshift\":10},{\"font\":{\"color\":\"red\",\"size\":10},\"showarrow\":false,\"text\":\"-0.23\",\"x\":\"2024-01-06T00:00:00\",\"y\":102.06087791467625,\"yshift\":10},{\"font\":{\"color\":\"green\",\"size\":10},\"showarrow\":false,\"text\":\"+1.58\",\"x\":\"2024-01-07T00:00:00\",\"y\":103.64009073018364,\"yshift\":10},{\"font\":{\"color\":\"green\",\"size\":10},\"showarrow\":false,\"text\":\"+0.77\",\"x\":\"2024-01-08T00:00:00\",\"y\":104.40752545933655,\"yshift\":10},{\"font\":{\"color\":\"red\",\"size\":10},\"showarrow\":false,\"text\":\"-0.47\",\"x\":\"2024-01-09T00:00:00\",\"y\":103.9380510734016,\"yshift\":10},{\"font\":{\"color\":\"green\",\"size\":10},\"showarrow\":false,\"text\":\"+0.54\",\"x\":\"2024-01-10T00:00:00\",\"y\":104.48061111698756,\"yshift\":10},{\"font\":{\"color\":\"red\",\"size\":10},\"showarrow\":false,\"text\":\"-0.46\",\"x\":\"2024-01-11T00:00:00\",\"y\":104.0171934241751,\"yshift\":10},{\"font\":{\"color\":\"red\",\"size\":10},\"showarrow\":false,\"text\":\"-0.47\",\"x\":\"2024-01-12T00:00:00\",\"y\":103.55146367060485,\"yshift\":10},{\"font\":{\"color\":\"green\",\"size\":10},\"showarrow\":false,\"text\":\"+0.24\",\"x\":\"2024-01-13T00:00:00\",\"y\":103.79342594217087,\"yshift\":10},{\"font\":{\"color\":\"red\",\"size\":10},\"showarrow\":false,\"text\":\"-1.91\",\"x\":\"2024-01-14T00:00:00\",\"y\":101.88014569751307,\"yshift\":10},{\"font\":{\"color\":\"red\",\"size\":10},\"showarrow\":false,\"text\":\"-1.72\",\"x\":\"2024-01-15T00:00:00\",\"y\":100.15522786500004,\"yshift\":10},{\"font\":{\"color\":\"red\",\"size\":10},\"showarrow\":false,\"text\":\"-0.56\",\"x\":\"2024-01-16T00:00:00\",\"y\":99.59294033575907,\"yshift\":10},{\"font\":{\"color\":\"red\",\"size\":10},\"showarrow\":false,\"text\":\"-1.01\",\"x\":\"2024-01-17T00:00:00\",\"y\":98.58010921542466,\"yshift\":10},{\"font\":{\"color\":\"green\",\"size\":10},\"showarrow\":false,\"text\":\"+0.31\",\"x\":\"2024-01-18T00:00:00\",\"y\":98.89435654801993,\"yshift\":10},{\"font\":{\"color\":\"red\",\"size\":10},\"showarrow\":false,\"text\":\"-0.91\",\"x\":\"2024-01-19T00:00:00\",\"y\":97.98633247249872,\"yshift\":10},{\"font\":{\"color\":\"red\",\"size\":10},\"showarrow\":false,\"text\":\"-1.41\",\"x\":\"2024-01-20T00:00:00\",\"y\":96.57402877116343,\"yshift\":10},{\"font\":{\"color\":\"green\",\"size\":10},\"showarrow\":false,\"text\":\"+1.47\",\"x\":\"2024-01-21T00:00:00\",\"y\":98.03967754008498,\"yshift\":10},{\"font\":{\"color\":\"red\",\"size\":10},\"showarrow\":false,\"text\":\"-0.23\",\"x\":\"2024-01-22T00:00:00\",\"y\":97.81390123959844,\"yshift\":10},{\"font\":{\"color\":\"green\",\"size\":10},\"showarrow\":false,\"text\":\"+0.07\",\"x\":\"2024-01-23T00:00:00\",\"y\":97.88142944428637,\"yshift\":10},{\"font\":{\"color\":\"red\",\"size\":10},\"showarrow\":false,\"text\":\"-1.42\",\"x\":\"2024-01-24T00:00:00\",\"y\":96.4566812580729,\"yshift\":10},{\"font\":{\"color\":\"red\",\"size\":10},\"showarrow\":false,\"text\":\"-0.54\",\"x\":\"2024-01-25T00:00:00\",\"y\":95.91229853354773,\"yshift\":10},{\"font\":{\"color\":\"green\",\"size\":10},\"showarrow\":false,\"text\":\"+0.11\",\"x\":\"2024-01-26T00:00:00\",\"y\":96.02322112325758,\"yshift\":10},{\"font\":{\"color\":\"red\",\"size\":10},\"showarrow\":false,\"text\":\"-1.15\",\"x\":\"2024-01-27T00:00:00\",\"y\":94.87222754583529,\"yshift\":10},{\"font\":{\"color\":\"green\",\"size\":10},\"showarrow\":false,\"text\":\"+0.38\",\"x\":\"2024-01-28T00:00:00\",\"y\":95.24792556418096,\"yshift\":10},{\"font\":{\"color\":\"red\",\"size\":10},\"showarrow\":false,\"text\":\"-0.60\",\"x\":\"2024-01-29T00:00:00\",\"y\":94.64728687426215,\"yshift\":10},{\"font\":{\"color\":\"red\",\"size\":10},\"showarrow\":false,\"text\":\"-0.29\",\"x\":\"2024-01-30T00:00:00\",\"y\":94.35559312446888,\"yshift\":10}],\"font\":{\"color\":\"white\"},\"title\":{\"text\":\"Stock Market Dashboard\",\"font\":{\"color\":\"white\"}},\"xaxis\":{\"title\":{\"text\":\"Date\"},\"gridcolor\":\"gray\",\"showgrid\":true,\"gridwidth\":0.5,\"zerolinecolor\":\"gray\"},\"yaxis\":{\"title\":{\"text\":\"Price\"},\"gridcolor\":\"gray\",\"showgrid\":true,\"gridwidth\":0.5,\"zerolinecolor\":\"gray\"},\"plot_bgcolor\":\"black\",\"paper_bgcolor\":\"black\"},                        {\"responsive\": true}                    ).then(function(){\n",
              "                            \n",
              "var gd = document.getElementById('9c8dfdeb-1255-4017-a936-4dbaf4a83fd8');\n",
              "var x = new MutationObserver(function (mutations, observer) {{\n",
              "        var display = window.getComputedStyle(gd).display;\n",
              "        if (!display || display === 'none') {{\n",
              "            console.log([gd, 'removed!']);\n",
              "            Plotly.purge(gd);\n",
              "            observer.disconnect();\n",
              "        }}\n",
              "}});\n",
              "\n",
              "// Listen for the removal of the full notebook cells\n",
              "var notebookContainer = gd.closest('#notebook-container');\n",
              "if (notebookContainer) {{\n",
              "    x.observe(notebookContainer, {childList: true});\n",
              "}}\n",
              "\n",
              "// Listen for the clearing of the current output cell\n",
              "var outputEl = gd.closest('.output');\n",
              "if (outputEl) {{\n",
              "    x.observe(outputEl, {childList: true});\n",
              "}}\n",
              "\n",
              "                        })                };                            </script>        </div>\n",
              "</body>\n",
              "</html>"
            ]
          },
          "metadata": {}
        }
      ]
    }
  ]
}